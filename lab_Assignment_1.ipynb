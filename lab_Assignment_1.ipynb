{
  "nbformat": 4,
  "nbformat_minor": 0,
  "metadata": {
    "colab": {
      "provenance": []
    },
    "kernelspec": {
      "name": "python3",
      "display_name": "Python 3"
    },
    "language_info": {
      "name": "python"
    }
  },
  "cells": [
    {
      "cell_type": "code",
      "source": [
        "from collections import deque\n",
        "\n",
        "# Define a Node class for trees\n",
        "class TreeNode:\n",
        "    def __init__(self, value):\n",
        "        self.value = value\n",
        "        self.children = []\n",
        "\n",
        "# Breadth-First Search (BFS) for trees\n",
        "def bfs_tree(root):\n",
        "    if not root:\n",
        "        return\n",
        "    queue = deque()\n",
        "    queue.append(root)\n",
        "    while queue:\n",
        "        node = queue.popleft()\n",
        "        print(node.value)\n",
        "        queue.extend(node.children)\n",
        "\n",
        "# Example usage for tree\n",
        "root = TreeNode(10)\n",
        "root.children = [TreeNode(20), TreeNode(30)]\n",
        "root.children[0].children = [TreeNode(40), TreeNode(50)]\n",
        "print(\"BFS Tree:\")\n",
        "bfs_tree(root)\n"
      ],
      "metadata": {
        "colab": {
          "base_uri": "https://localhost:8080/"
        },
        "id": "59BpdTgP__Os",
        "outputId": "456af8d4-2dd8-4112-f0b4-4d6f88aba429"
      },
      "execution_count": 7,
      "outputs": [
        {
          "output_type": "stream",
          "name": "stdout",
          "text": [
            "BFS Tree:\n",
            "10\n",
            "20\n",
            "30\n",
            "40\n",
            "50\n"
          ]
        }
      ]
    },
    {
      "cell_type": "code",
      "source": [
        "# Define a Node class for trees\n",
        "class TreeNode:\n",
        "    def __init__(self, value):\n",
        "        self.value = value\n",
        "        self.children = []\n",
        "\n",
        "# Depth-First Search (DFS) for trees\n",
        "def dfs_tree(node):\n",
        "    if not node:\n",
        "        return\n",
        "    print(node.value)\n",
        "    for child in node.children:\n",
        "        dfs_tree(child)\n",
        "\n",
        "# Example usage for tree\n",
        "root = TreeNode(10)\n",
        "root.children = [TreeNode(20), TreeNode(30)]\n",
        "root.children[0].children = [TreeNode(40), TreeNode(50)]\n",
        "print(\"DFS Tree:\")\n",
        "dfs_tree(root)\n"
      ],
      "metadata": {
        "colab": {
          "base_uri": "https://localhost:8080/"
        },
        "id": "D3-9hsGkF00c",
        "outputId": "53f4b75a-c30f-4e66-b37d-c6044b1ba9df"
      },
      "execution_count": 8,
      "outputs": [
        {
          "output_type": "stream",
          "name": "stdout",
          "text": [
            "DFS Tree:\n",
            "10\n",
            "20\n",
            "40\n",
            "50\n",
            "30\n"
          ]
        }
      ]
    },
    {
      "cell_type": "code",
      "source": [
        "# Depth-First Search (DFS) for graphs\n",
        "def dfs_graph(graph, start, visited=None):\n",
        "    if visited is None:\n",
        "        visited = set()\n",
        "    if start not in visited:\n",
        "        print(start)\n",
        "        visited.add(start)\n",
        "        for neighbor in graph[start]:\n",
        "            dfs_graph(graph, neighbor, visited)\n",
        "\n",
        "# Example usage for graph (using adjacency list representation)\n",
        "graph = {\n",
        "    10: [20, 40],\n",
        "    20: [10, 30],\n",
        "    30: [20, 50],\n",
        "    40: [10],\n",
        "    50: [30]\n",
        "}\n",
        "print(\"DFS Graph:\")\n",
        "dfs_graph(graph, 10)\n"
      ],
      "metadata": {
        "colab": {
          "base_uri": "https://localhost:8080/"
        },
        "id": "HnuJm4xIHDMk",
        "outputId": "03cc71fa-d983-4472-d52e-1ddb726c6eca"
      },
      "execution_count": 9,
      "outputs": [
        {
          "output_type": "stream",
          "name": "stdout",
          "text": [
            "BFS Graph:\n",
            "10\n",
            "20\n",
            "40\n",
            "30\n",
            "50\n"
          ]
        }
      ]
    },
    {
      "cell_type": "code",
      "source": [
        "import random\n",
        "\n",
        "# Define a Node class for trees\n",
        "class TreeNode:\n",
        "    def __init__(self, value):\n",
        "        self.value = value\n",
        "        self.left = None\n",
        "        self.right = None\n",
        "\n",
        "# Function to generate random and unique numbers within a range\n",
        "def generate_unique_random_numbers(start, end, count):\n",
        "    return random.sample(range(start, end + 1), count)\n",
        "\n",
        "# Function to build a tree from a list of numbers\n",
        "def build_tree_from_list(numbers):\n",
        "    if not numbers:\n",
        "        return None\n",
        "    root = TreeNode(numbers[0])\n",
        "    for num in numbers[1:]:\n",
        "        insert_node(root, num)\n",
        "    return root\n",
        "\n",
        "# Function to insert a node into a binary search tree\n",
        "def insert_node(root, value):\n",
        "    if value < root.value:\n",
        "        if root.left is None:\n",
        "            root.left = TreeNode(value)\n",
        "        else:\n",
        "            insert_node(root.left, value)\n",
        "    elif value > root.value:\n",
        "        if root.right is None:\n",
        "            root.right = TreeNode(value)\n",
        "        else:\n",
        "            insert_node(root.right, value)\n",
        "\n",
        "# Set ranges for each input set\n",
        "ranges = [(1, 1000), (1, 40000), (1, 80000), (1, 200000), (1, 1000000)]\n",
        "\n",
        "# Generate random and unique numbers for each input set and build a tree\n",
        "for i, (start, end) in enumerate(ranges, start=1):\n",
        "    count = 100  # Adjust count as needed\n",
        "    numbers = generate_unique_random_numbers(start, end, count)\n",
        "    tree_root = build_tree_from_list(numbers)\n",
        "    print(f\"Tree {i} for range {start}-{end}:\")\n",
        "    # Print tree traversal (e.g., inorder, preorder, postorder) to verify\n",
        "    # For example: inorder_traversal(tree_root)\n",
        "    # You need to define traversal functions (inorder_traversal, preorder_traversal, etc.) as needed\n"
      ],
      "metadata": {
        "colab": {
          "base_uri": "https://localhost:8080/"
        },
        "id": "XQ3dUIuGJty7",
        "outputId": "415135d0-15dc-4154-e39f-41b2e6120e80"
      },
      "execution_count": 12,
      "outputs": [
        {
          "output_type": "stream",
          "name": "stdout",
          "text": [
            "Tree 1 for range 1-1000:\n",
            "Tree 2 for range 1-40000:\n",
            "Tree 3 for range 1-80000:\n",
            "Tree 4 for range 1-200000:\n",
            "Tree 5 for range 1-1000000:\n"
          ]
        }
      ]
    },
    {
      "cell_type": "code",
      "source": [
        "import random\n",
        "import time\n",
        "from collections import deque\n",
        "\n",
        "def bfs(lis, goal):\n",
        "    if not lis:\n",
        "        return None\n",
        "\n",
        "    queue = deque([(lis, 0)])\n",
        "    visited = set()\n",
        "\n",
        "    while queue:\n",
        "        current, depth = queue.popleft()\n",
        "        visited.add(tuple(current))\n",
        "\n",
        "        if current[-220:] == goal:\n",
        "            return depth\n",
        "\n",
        "        for i in range(len(current)):\n",
        "            new_list = current[:i] + current[i+1:]\n",
        "            if tuple(new_list) not in visited:\n",
        "                queue.append((new_list, depth + 1))\n",
        "\n",
        "    return -1\n",
        "\n",
        "def dfs(lis, goal):\n",
        "    if not lis:\n",
        "        return None\n",
        "\n",
        "    stack = [(lis, 0)]\n",
        "    visited = set()\n",
        "\n",
        "    while stack:\n",
        "        current, depth = stack.pop()\n",
        "        visited.add(tuple(current))\n",
        "\n",
        "        if current[-220:] == goal:\n",
        "            return depth\n",
        "\n",
        "        for i in range(len(current)):\n",
        "            new_list = current[:i] + current[i+1:]\n",
        "            if tuple(new_list) not in visited:\n",
        "                stack.append((new_list, depth + 1))\n",
        "\n",
        "    return -1\n",
        "\n",
        "# Example usage\n",
        "random.seed(42)  # Set random seed for reproducibility\n",
        "\n",
        "# Define tree sizes\n",
        "tree_sizes = [1000, 40000, 80000, 200000, 1000000]\n",
        "\n",
        "for size in tree_sizes:\n",
        "    # Generate a random set of numbers\n",
        "    lis = [random.randint(1, size) for _ in range(size)]\n",
        "\n",
        "    goal = lis[size - 220:]\n",
        "\n",
        "    # Measure BFS execution time\n",
        "    start_time = time.time()\n",
        "    bfs_depth = bfs(lis, goal)\n",
        "    end_time = time.time()\n",
        "    execution_time_bfs = end_time - start_time\n",
        "\n",
        "    # Measure DFS execution time\n",
        "    start_time = time.time()\n",
        "    dfs_depth = dfs(lis, goal)\n",
        "    end_time = time.time()\n",
        "    execution_time_dfs = end_time - start_time\n",
        "\n",
        "    print(f\"Tree size: {size}\")\n",
        "    print(\"BFS Execution Time:\", execution_time_bfs)\n",
        "    print(\"BFS Depth:\", bfs_depth)\n",
        "    print(\"DFS Execution Time:\", execution_time_dfs)\n",
        "    print(\"DFS Depth:\", dfs_depth)\n",
        "    print()\n"
      ],
      "metadata": {
        "colab": {
          "base_uri": "https://localhost:8080/"
        },
        "id": "2FHseJNORMat",
        "outputId": "f11426e2-8259-49d2-d1b9-41f54a088ded"
      },
      "execution_count": 24,
      "outputs": [
        {
          "output_type": "stream",
          "name": "stdout",
          "text": [
            "Tree size: 1000\n",
            "BFS Execution Time: 3.719329833984375e-05\n",
            "BFS Depth: 0\n",
            "DFS Execution Time: 2.002716064453125e-05\n",
            "DFS Depth: 0\n",
            "\n",
            "Tree size: 40000\n",
            "BFS Execution Time: 0.0007610321044921875\n",
            "BFS Depth: 0\n",
            "DFS Execution Time: 0.00031566619873046875\n",
            "DFS Depth: 0\n",
            "\n",
            "Tree size: 80000\n",
            "BFS Execution Time: 0.0016436576843261719\n",
            "BFS Depth: 0\n",
            "DFS Execution Time: 0.0007431507110595703\n",
            "DFS Depth: 0\n",
            "\n",
            "Tree size: 200000\n",
            "BFS Execution Time: 0.005310535430908203\n",
            "BFS Depth: 0\n",
            "DFS Execution Time: 0.004280805587768555\n",
            "DFS Depth: 0\n",
            "\n",
            "Tree size: 1000000\n",
            "BFS Execution Time: 0.029496431350708008\n",
            "BFS Depth: 0\n",
            "DFS Execution Time: 0.027048826217651367\n",
            "DFS Depth: 0\n",
            "\n"
          ]
        }
      ]
    },
    {
      "cell_type": "code",
      "source": [
        "def heuristic(current, goal):\n",
        "    return abs(current[0] - goal[0]) + abs(current[1] - goal[1])\n",
        "\n",
        "def a_star_search(maze, start, goal):\n",
        "    rows, cols = len(maze), len(maze[0])\n",
        "    open_set = [(0, start)]\n",
        "    came_from = {}\n",
        "    g_score = {start: 0}\n",
        "    f_score = {start: heuristic(start, goal)}\n",
        "\n",
        "    while open_set:\n",
        "        current = min(open_set, key=lambda x: x[0])\n",
        "        open_set.remove(current)\n",
        "\n",
        "        if current[1] == goal:\n",
        "            return reconstruct_path(came_from, current[1])\n",
        "\n",
        "        for dx, dy in ((1, 0), (-1, 0), (0, 1), (0, -1)):\n",
        "            neighbor = (current[1][0] + dx, current[1][1] + dy)\n",
        "            if 0 <= neighbor[0] < rows and 0 <= neighbor[1] < cols and maze[neighbor[0]][neighbor[1]] == 0:\n",
        "                tentative_g_score = g_score[current[1]] + 1\n",
        "\n",
        "                if neighbor not in g_score or tentative_g_score < g_score[neighbor]:\n",
        "                    came_from[neighbor] = current[1]\n",
        "                    g_score[neighbor] = tentative_g_score\n",
        "                    f_score[neighbor] = g_score[neighbor] + heuristic(neighbor, goal)\n",
        "                    open_set.append((f_score[neighbor], neighbor))\n",
        "\n",
        "    return None\n",
        "\n",
        "def reconstruct_path(came_from, current):\n",
        "    path = [current]\n",
        "    while current in came_from:\n",
        "        current = came_from[current]\n",
        "        path.append(current)\n",
        "    return path[::-1]\n",
        "\n",
        "# Example usage (replace maze with your actual maze data)\n",
        "maze = [\n",
        "    [0, 1, 0, 0, 0, 0],\n",
        "    [0, 1, 0, 0, 1, 0],\n",
        "    [0, 1, 0, 0, 1, 0],\n",
        "    [0, 1, 0, 1, 1, 0],\n",
        "    [0, 0, 0, 0, 1, 0],\n",
        "    [0, 0, 0, 0, 0, 0],\n",
        "]\n",
        "\n",
        "start = (5, 5)  # Replace with the coordinates of your starting node\n",
        "goal = (4, 5)   # Replace with the coordinates of your goal node\n",
        "\n",
        "path = a_star_search(maze, start, goal)\n",
        "\n",
        "if path:\n",
        "    print(\"Shortest path:\", path)\n",
        "else:\n",
        "    print(\"No path found\")\n"
      ],
      "metadata": {
        "colab": {
          "base_uri": "https://localhost:8080/"
        },
        "id": "EeuhKKAPUmzT",
        "outputId": "cfe28eca-f968-4f31-e0fa-41de6c9dc1a3"
      },
      "execution_count": 25,
      "outputs": [
        {
          "output_type": "stream",
          "name": "stdout",
          "text": [
            "Shortest path: [(5, 5), (4, 5)]\n"
          ]
        }
      ]
    },
    {
      "cell_type": "code",
      "source": [
        "import math\n",
        "\n",
        "# Represents a node in the game tree\n",
        "class Node:\n",
        "    def __init__(self, value):\n",
        "        self.value = value\n",
        "        self.children = []\n",
        "\n",
        "# Alpha-Beta Pruning algorithm\n",
        "def alpha_beta(node, depth, alpha, beta, maximizing_player):\n",
        "    if depth == 0 or len(node.children) == 0:\n",
        "        return node.value\n",
        "\n",
        "    if maximizing_player:\n",
        "        max_val = -math.inf\n",
        "        for child in node.children:\n",
        "            val = alpha_beta(child, depth - 1, alpha, beta, False)\n",
        "            max_val = max(max_val, val)\n",
        "            alpha = max(alpha, max_val)\n",
        "            if beta <= alpha:\n",
        "                break\n",
        "        return max_val\n",
        "    else:\n",
        "        min_val = math.inf\n",
        "        for child in node.children:\n",
        "            val = alpha_beta(child, depth - 1, alpha, beta, True)\n",
        "            min_val = min(min_val, val)\n",
        "            beta = min(beta, min_val)\n",
        "            if beta <= alpha:\n",
        "                break\n",
        "        return min_val\n",
        "\n",
        "# Example usage\n",
        "root = Node(0)\n",
        "root.children = [Node(3), Node(6), Node(5)]\n",
        "root.children[0].children = [Node(9), Node(12), Node(8)]\n",
        "root.children[1].children = [Node(5), Node(7), Node(4)]\n",
        "root.children[2].children = [Node(1), Node(10), Node(2)]\n",
        "\n",
        "alpha = -math.inf\n",
        "beta = math.inf\n",
        "depth = 3\n",
        "maximizing_player = True\n",
        "\n",
        "optimal_value = alpha_beta(root, depth, alpha, beta, maximizing_player)\n",
        "print(\"Optimal value:\", optimal_value)\n"
      ],
      "metadata": {
        "colab": {
          "base_uri": "https://localhost:8080/"
        },
        "id": "-e4yYTL5WTbg",
        "outputId": "4efc389f-2088-4ff8-eec4-bc3f1edd1be1"
      },
      "execution_count": 28,
      "outputs": [
        {
          "output_type": "stream",
          "name": "stdout",
          "text": [
            "Optimal value: 8\n"
          ]
        }
      ]
    }
  ]
}